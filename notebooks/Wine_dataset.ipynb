{
 "cells": [
  {
   "cell_type": "markdown",
   "id": "26954a68",
   "metadata": {},
   "source": [
    "# Wine dataset\n",
    "\n",
    "**D3APL – Aplicações em Ciência de dados**\n",
    "\n",
    "Especialização em Ciência de Dados - IFSP Campinas\n",
    "\n",
    "Alunos\n",
    "- Daniel Vargas Shimamoto\n",
    "- Diego Machado de Assis"
   ]
  },
  {
   "cell_type": "markdown",
   "id": "02982cf5",
   "metadata": {},
   "source": [
    "# 1. Informações Gerais\n",
    "\n",
    "## 1.1. Conhecendo  o dataset\n",
    "\n",
    "Os dados do *Wine dataset* disponível no [scikit-learn](https://scikit-learn.org/stable/modules/generated/sklearn.datasets.load_wine.html#sklearn.datasets.load_wine) é uma base clássica de um problema de classificação multi-classe. Os dados são resultados de uma análise química de vinhos cultivados em uma mesma região da Itália, mas provenientes de três culturas diferentes, feita pela [UCI](https://archive.ics.uci.edu/ml/datasets/wine). \n",
    "\n",
    "Os dados possuem 178 amostras dividase em 13 *features* relacionadas a três possíveis tipos de vinhos. Este dataset é muito utilizado para problemas de classificação por ter uma estrutura bem comportada, sendo indicado para testes de novos modelos de classificadores\n",
    "\n",
    "Fonte: https://archive.ics.uci.edu/ml/datasets/wine\n",
    "\n",
    "## 1.2. Atributos:\n",
    "\n",
    "### Variável independente\n",
    "* `Alcohol`\n",
    "* `Malic acid`\n",
    "* `Ash`\n",
    "* `Alcalinity of ash`\n",
    "* `Magnesium`\n",
    "* `Total phenols`\n",
    "* `Flavanoids`\n",
    "* `Nonflavanoid phenols`\n",
    "* `Proanthocyanins`\n",
    "* `Color intensity`\n",
    "* `Hue`\n",
    "* `OD280/OD315 of diluted wines`\n",
    "* `Proline`\n",
    "\n",
    "### Variáveis dependentes\n",
    "* `class_0`\n",
    "* `class_1`\n",
    "* `class_2`\n",
    "\n",
    "## 1.3. Objetivo\n",
    "Criar um Regressor Logístico com *regularização L2* para um problema de classificação multi-classe implementando as seguintes funcionalidades \n",
    "* Diferentes versões do gradiente descendente (otimizador)\n",
    " * Hiperparâmetro ***optimizer*** com uma validação\n",
    "   * optimizer = 'batch', default: Batch gradiente descent\n",
    "   * optimizer = 'mini': Mini-batch gradiente descent\n",
    "   * optimizer = 'stochastic': Stochastic gradiente descent\n",
    "* Uma estratégia de classificação multi-classe\n",
    " * One vs Rest\n",
    "* Validar modelo com [*LogisticRegression*](https://scikit-learn.org/stable/modules/generated/sklearn.linear_model.LogisticRegression.html) e [*SGDClassifier*](https://scikit-learn.org/stable/modules/generated/sklearn.linear_model.SGDClassifier.html) nas versões *default* e após *fine-tuning*"
   ]
  },
  {
   "cell_type": "markdown",
   "id": "6fa6cda4",
   "metadata": {},
   "source": [
    "# 2. Importações"
   ]
  },
  {
   "cell_type": "code",
   "execution_count": 1,
   "id": "ce4a2c64",
   "metadata": {},
   "outputs": [],
   "source": [
    "# Bibliotecas Básicas\n",
    "import pandas as pd\n",
    "import numpy as np\n",
    "import seaborn as sns\n",
    "import matplotlib.pyplot as plt\n",
    "\n",
    "# Sklearn\n",
    "from sklearn.datasets import load_wine\n",
    "from sklearn.model_selection import train_test_split\n",
    "from sklearn.model_selection import GridSearchCV\n",
    "from sklearn.linear_model import LogisticRegression\n",
    "from sklearn.linear_model import SGDClassifier\n",
    "\n",
    "# Auxiliares\n",
    "import warnings\n",
    "warnings.filterwarnings('ignore')"
   ]
  },
  {
   "cell_type": "code",
   "execution_count": 2,
   "id": "4740fc76",
   "metadata": {},
   "outputs": [
    {
     "data": {
      "text/html": [
       "<div>\n",
       "<style scoped>\n",
       "    .dataframe tbody tr th:only-of-type {\n",
       "        vertical-align: middle;\n",
       "    }\n",
       "\n",
       "    .dataframe tbody tr th {\n",
       "        vertical-align: top;\n",
       "    }\n",
       "\n",
       "    .dataframe thead th {\n",
       "        text-align: right;\n",
       "    }\n",
       "</style>\n",
       "<table border=\"1\" class=\"dataframe\">\n",
       "  <thead>\n",
       "    <tr style=\"text-align: right;\">\n",
       "      <th></th>\n",
       "      <th>alcohol</th>\n",
       "      <th>malic_acid</th>\n",
       "      <th>ash</th>\n",
       "      <th>alcalinity_of_ash</th>\n",
       "      <th>magnesium</th>\n",
       "      <th>total_phenols</th>\n",
       "      <th>flavanoids</th>\n",
       "      <th>nonflavanoid_phenols</th>\n",
       "      <th>proanthocyanins</th>\n",
       "      <th>color_intensity</th>\n",
       "      <th>hue</th>\n",
       "      <th>od280/od315_of_diluted_wines</th>\n",
       "      <th>proline</th>\n",
       "      <th>target</th>\n",
       "    </tr>\n",
       "  </thead>\n",
       "  <tbody>\n",
       "    <tr>\n",
       "      <th>0</th>\n",
       "      <td>14.23</td>\n",
       "      <td>1.71</td>\n",
       "      <td>2.43</td>\n",
       "      <td>15.6</td>\n",
       "      <td>127.0</td>\n",
       "      <td>2.80</td>\n",
       "      <td>3.06</td>\n",
       "      <td>0.28</td>\n",
       "      <td>2.29</td>\n",
       "      <td>5.64</td>\n",
       "      <td>1.04</td>\n",
       "      <td>3.92</td>\n",
       "      <td>1065.0</td>\n",
       "      <td>0</td>\n",
       "    </tr>\n",
       "    <tr>\n",
       "      <th>1</th>\n",
       "      <td>13.20</td>\n",
       "      <td>1.78</td>\n",
       "      <td>2.14</td>\n",
       "      <td>11.2</td>\n",
       "      <td>100.0</td>\n",
       "      <td>2.65</td>\n",
       "      <td>2.76</td>\n",
       "      <td>0.26</td>\n",
       "      <td>1.28</td>\n",
       "      <td>4.38</td>\n",
       "      <td>1.05</td>\n",
       "      <td>3.40</td>\n",
       "      <td>1050.0</td>\n",
       "      <td>0</td>\n",
       "    </tr>\n",
       "    <tr>\n",
       "      <th>2</th>\n",
       "      <td>13.16</td>\n",
       "      <td>2.36</td>\n",
       "      <td>2.67</td>\n",
       "      <td>18.6</td>\n",
       "      <td>101.0</td>\n",
       "      <td>2.80</td>\n",
       "      <td>3.24</td>\n",
       "      <td>0.30</td>\n",
       "      <td>2.81</td>\n",
       "      <td>5.68</td>\n",
       "      <td>1.03</td>\n",
       "      <td>3.17</td>\n",
       "      <td>1185.0</td>\n",
       "      <td>0</td>\n",
       "    </tr>\n",
       "  </tbody>\n",
       "</table>\n",
       "</div>"
      ],
      "text/plain": [
       "   alcohol  malic_acid   ash  alcalinity_of_ash  magnesium  total_phenols  \\\n",
       "0    14.23        1.71  2.43               15.6      127.0           2.80   \n",
       "1    13.20        1.78  2.14               11.2      100.0           2.65   \n",
       "2    13.16        2.36  2.67               18.6      101.0           2.80   \n",
       "\n",
       "   flavanoids  nonflavanoid_phenols  proanthocyanins  color_intensity   hue  \\\n",
       "0        3.06                  0.28             2.29             5.64  1.04   \n",
       "1        2.76                  0.26             1.28             4.38  1.05   \n",
       "2        3.24                  0.30             2.81             5.68  1.03   \n",
       "\n",
       "   od280/od315_of_diluted_wines  proline  target  \n",
       "0                          3.92   1065.0       0  \n",
       "1                          3.40   1050.0       0  \n",
       "2                          3.17   1185.0       0  "
      ]
     },
     "execution_count": 2,
     "metadata": {},
     "output_type": "execute_result"
    }
   ],
   "source": [
    "df = load_wine(as_frame=True)\n",
    "df = df.frame\n",
    "df.head(3)"
   ]
  },
  {
   "cell_type": "markdown",
   "id": "fba69744-b75f-4bf8-97a2-74c3f99d53cc",
   "metadata": {},
   "source": [
    "# 3. Limpeza e pré-processamento"
   ]
  },
  {
   "cell_type": "markdown",
   "id": "ce7bd515-a27e-4765-bdde-ecb4179c3764",
   "metadata": {},
   "source": [
    "## 3.1 Limpeza dos dados"
   ]
  },
  {
   "cell_type": "code",
   "execution_count": 3,
   "id": "50dd1ac8",
   "metadata": {},
   "outputs": [
    {
     "name": "stdout",
     "output_type": "stream",
     "text": [
      "<class 'pandas.core.frame.DataFrame'>\n",
      "RangeIndex: 178 entries, 0 to 177\n",
      "Data columns (total 14 columns):\n",
      " #   Column                        Non-Null Count  Dtype  \n",
      "---  ------                        --------------  -----  \n",
      " 0   alcohol                       178 non-null    float64\n",
      " 1   malic_acid                    178 non-null    float64\n",
      " 2   ash                           178 non-null    float64\n",
      " 3   alcalinity_of_ash             178 non-null    float64\n",
      " 4   magnesium                     178 non-null    float64\n",
      " 5   total_phenols                 178 non-null    float64\n",
      " 6   flavanoids                    178 non-null    float64\n",
      " 7   nonflavanoid_phenols          178 non-null    float64\n",
      " 8   proanthocyanins               178 non-null    float64\n",
      " 9   color_intensity               178 non-null    float64\n",
      " 10  hue                           178 non-null    float64\n",
      " 11  od280/od315_of_diluted_wines  178 non-null    float64\n",
      " 12  proline                       178 non-null    float64\n",
      " 13  target                        178 non-null    int64  \n",
      "dtypes: float64(13), int64(1)\n",
      "memory usage: 19.6 KB\n"
     ]
    }
   ],
   "source": [
    "df.info()"
   ]
  },
  {
   "cell_type": "code",
   "execution_count": 4,
   "id": "3d0ea000",
   "metadata": {},
   "outputs": [
    {
     "name": "stdout",
     "output_type": "stream",
     "text": [
      "O dataset possui 0 dados nulos\n",
      "O dataset possui 0 dados duplicados\n"
     ]
    }
   ],
   "source": [
    "# Dados nulos\n",
    "print(f'O dataset possui {df.isnull().sum().sum()} dados nulos')\n",
    "\n",
    "# Dados duplicados\n",
    "print(f'O dataset possui {df.duplicated().sum()} dados duplicados')"
   ]
  },
  {
   "cell_type": "markdown",
   "id": "fa361d32",
   "metadata": {},
   "source": [
    "## 3.2. Separação da base de teste\n",
    "\n",
    "Após a verificação dos dados duplicados e dos valores vazios, vamos começar a análise exploratória. Antes de começar a analisar os dados, vamos dividir a base em dados de treino e teste. Para montar um modelo que seja consistente os dados de testes não devem ser usados para analisar e preparar a base, de modo que a divisão deve ser feita anteriormente.\n",
    "O parâmetro **target** define a que classe cada amostra pertence. Dessa forma vamos estratificar a amostra nesse parâmetro, garantindo a homogeneidade em relação a esse atributo."
   ]
  },
  {
   "cell_type": "code",
   "execution_count": 5,
   "id": "9bdba6f7",
   "metadata": {},
   "outputs": [
    {
     "name": "stdout",
     "output_type": "stream",
     "text": [
      "Temos (142, 14) dados de treino e (36, 14) dados de teste\n"
     ]
    }
   ],
   "source": [
    "df_train, df_test = train_test_split(df, test_size=0.2, stratify=df['target'], random_state=42)\n",
    "\n",
    "print(f'Temos {df_train.shape} dados de treino e {df_test.shape} dados de teste')"
   ]
  },
  {
   "cell_type": "code",
   "execution_count": 6,
   "id": "d000c8d1",
   "metadata": {},
   "outputs": [
    {
     "name": "stdout",
     "output_type": "stream",
     "text": [
      "Dados de Treino\n",
      "1    0.401408\n",
      "0    0.330986\n",
      "2    0.267606\n",
      "Name: target, dtype: float64\n",
      "\n",
      "Dados de Teste\n",
      "1    0.388889\n",
      "0    0.333333\n",
      "2    0.277778\n",
      "Name: target, dtype: float64\n",
      "\n"
     ]
    }
   ],
   "source": [
    "print(f\"Dados de Treino\\n{df_train['target'].value_counts()/len(df_train['target'])}\\n\")\n",
    "print(f\"Dados de Teste\\n{df_test['target'].value_counts()/len(df_test['target'])}\\n\")"
   ]
  },
  {
   "cell_type": "markdown",
   "id": "196e81df",
   "metadata": {},
   "source": [
    "## 3.3. Análise exploratória"
   ]
  },
  {
   "cell_type": "code",
   "execution_count": 7,
   "id": "98c2c585",
   "metadata": {},
   "outputs": [
    {
     "data": {
      "image/png": "[encoded data removed]",
      "text/plain": [
       "<Figure size 1152x864 with 2 Axes>"
      ]
     },
     "metadata": {
      "needs_background": "light"
     },
     "output_type": "display_data"
    }
   ],
   "source": [
    "# Correlação das Features\n",
    "mask = np.zeros_like(df_train.iloc[:,:-1].corr())\n",
    "mask[np.triu_indices_from(mask, k=1)] = True\n",
    "\n",
    "plt.figure(figsize=(16,12))\n",
    "sns.heatmap(df_train.iloc[:,:-1].corr(), linewidths=.3, cmap=sns.diverging_palette(20, 220, as_cmap=True), vmin=-1, vmax=1, annot = True, fmt = '.1f', mask = mask)\n",
    "plt.title('Correlação dos atributos')\n",
    "plt.show()"
   ]
  },
  {
   "cell_type": "code",
   "execution_count": 8,
   "id": "530293ca",
   "metadata": {},
   "outputs": [
    {
     "data": {
      "image/png": "[encoded data removed]",
      "text/plain": [
       "<Figure size 1296x1152 with 16 Axes>"
      ]
     },
     "metadata": {
      "needs_background": "light"
     },
     "output_type": "display_data"
    }
   ],
   "source": [
    "fig, axs = plt.subplots(4,4, figsize=(18,16))\n",
    "\n",
    "cont = 0\n",
    "for i in range(0, 4):\n",
    "    for j in range(0, 4):\n",
    "        sns.boxplot(data=df_train.iloc[:,cont], ax=axs[i][j])\n",
    "        axs[i][j].set_title(df_train.columns[cont])\n",
    "        cont+=1\n",
    "        if cont > 13:\n",
    "            break"
   ]
  },
  {
   "cell_type": "markdown",
   "id": "b4707ede",
   "metadata": {},
   "source": [
    "Embora existam algumas correlações altas, vamos manter todas as features para treinamento dos modelos.\n",
    "\n",
    "Os boxplots não mostra nenhum outliers nos dados"
   ]
  },
  {
   "cell_type": "markdown",
   "id": "d476ab40",
   "metadata": {},
   "source": [
    "## 3.4. Preparação dos dados para treinamento dos modelos\n",
    "\n",
    "Para realizar o treinamento dos modelos iremos utilizar a classe **GridSearchCV** do pacote [*sklearn.model_selection*](https://scikit-learn.org/stable/modules/generated/sklearn.model_selection.GridSearchCV.html). Será realizada validação cruzada para avaliação do modelo, utilizando o **Kfold** com 5 grupos.\n",
    "\n",
    "A estrutura geral de execução de todos os modelos será a mesma. Inicialmente treinaremos o modelo com os parâmetros *default* e computaremos o erro com os dados de validação.Em seguida será criado um dicionário de parâmetros a serem testados pela função de *grid search*, computando o erro para a versão *fine-tuning*"
   ]
  },
  {
   "cell_type": "code",
   "execution_count": 9,
   "id": "7a5a49f2",
   "metadata": {},
   "outputs": [],
   "source": [
    "# Separando as variáveis independente da variável alvo\n",
    "df_train_features = df_train.drop(columns = ['target'])\n",
    "df_train_target = df_train['target'].values\n",
    "\n",
    "df_test_features = df_test.drop(columns = ['target'])\n",
    "df_test_target = df_test['target'].values"
   ]
  },
  {
   "cell_type": "markdown",
   "id": "345cbf34-a5e5-4a2d-84cc-9e986c9dd56c",
   "metadata": {},
   "source": [
    "## 3.5. Normalização"
   ]
  },
  {
   "cell_type": "code",
   "execution_count": 10,
   "id": "7c8a5af4-bc73-4e2a-8a58-d04041cdb343",
   "metadata": {},
   "outputs": [],
   "source": [
    "from sklearn.preprocessing import StandardScaler\n",
    "\n",
    "scaler = StandardScaler()\n",
    "scaler.fit(df_train_features)\n",
    "\n",
    "df_train_features = scaler.transform(df_train_features)\n",
    "df_test_features = scaler.transform(df_test_features)"
   ]
  },
  {
   "cell_type": "markdown",
   "id": "bd4c727c",
   "metadata": {},
   "source": [
    "# 4. Importação do Regressor Logístico"
   ]
  },
  {
   "cell_type": "markdown",
   "id": "1e3c76a8-366a-452e-ad55-c8b18163f6dd",
   "metadata": {},
   "source": [
    "O regressor logístico foi desenvolvido pelo grupo no notebbok [Implementing a Multiclass Classifier](./multiclass_classifier.ipynb). A implementação do mesmo também foi exportada para um [módulo python](./module/grupo5.py), para facilitar a importação."
   ]
  },
  {
   "cell_type": "code",
   "execution_count": 11,
   "id": "009c39c2",
   "metadata": {},
   "outputs": [],
   "source": [
    "import module.grupo5 as grupo5"
   ]
  },
  {
   "cell_type": "markdown",
   "id": "e95adbff",
   "metadata": {},
   "source": [
    "# 5. Aplicação dos modelos"
   ]
  },
  {
   "cell_type": "markdown",
   "id": "20def770",
   "metadata": {},
   "source": [
    "## 5.1. Regressor Logístico do Grupo 5"
   ]
  },
  {
   "cell_type": "code",
   "execution_count": 12,
   "id": "a1a18ac4",
   "metadata": {},
   "outputs": [],
   "source": [
    "def Grupo5_model(df_train_features, df_train_target, G5_grid_params, num_folds=5):\n",
    "    G5_model = GridSearchCV(\n",
    "        estimator=grupo5.LogisticRegression(random_state=42),\n",
    "        param_grid=G5_grid_params,\n",
    "        cv=num_folds,\n",
    "        scoring=\"accuracy\"\n",
    "    )\n",
    "\n",
    "    G5_model.fit(df_train_features, df_train_target)\n",
    "\n",
    "    print(f'Melhores parametros: {G5_model.best_params_}')\n",
    "    print(f'Acurácia: {G5_model.best_score_}')\n",
    "    return G5_model"
   ]
  },
  {
   "cell_type": "markdown",
   "id": "8a44a98a",
   "metadata": {},
   "source": [
    "### 5.1.1. Batch Gradient Descent - Versão Default"
   ]
  },
  {
   "cell_type": "code",
   "execution_count": 13,
   "id": "83d79660",
   "metadata": {},
   "outputs": [
    {
     "name": "stdout",
     "output_type": "stream",
     "text": [
      "Melhores parametros: {'optimizer': 'batch'}\n",
      "Acurácia: 0.9507389162561577\n"
     ]
    }
   ],
   "source": [
    "# Parâmetros Default\n",
    "G5_grid_params_default = { 'optimizer': ['batch'] }\n",
    "\n",
    "G5_default = Grupo5_model(df_train_features, df_train_target, G5_grid_params_default)"
   ]
  },
  {
   "cell_type": "markdown",
   "id": "54807ace",
   "metadata": {},
   "source": [
    "### 5.1.2. Batch Gradient Descent - Fine-Tuning"
   ]
  },
  {
   "cell_type": "code",
   "execution_count": 14,
   "id": "65152e27",
   "metadata": {},
   "outputs": [
    {
     "name": "stdout",
     "output_type": "stream",
     "text": [
      "Melhores parametros: {'alpha': 0.01, 'learning_rate': 0.01, 'n_epochs': 10000, 'optimizer': 'batch'}\n",
      "Acurácia: 0.993103448275862\n"
     ]
    }
   ],
   "source": [
    "# Parâmetros fine-tuning\n",
    "G5_grid_params_ft = {\n",
    "    'optimizer': ['batch'],\n",
    "    'learning_rate': [0.001, 0.01, 0.1],\n",
    "    'n_epochs': [100, 1000, 10000],\n",
    "    'alpha': [0.0001, 0.001, 0.01],\n",
    "}\n",
    "\n",
    "G5_ft = Grupo5_model(df_train_features, df_train_target, G5_grid_params_ft)"
   ]
  },
  {
   "cell_type": "markdown",
   "id": "e0012277",
   "metadata": {},
   "source": [
    "### 5.1.3. Minibatch Gradient Descent - Versão Default"
   ]
  },
  {
   "cell_type": "code",
   "execution_count": 15,
   "id": "4c9a625c",
   "metadata": {},
   "outputs": [
    {
     "name": "stdout",
     "output_type": "stream",
     "text": [
      "Melhores parametros: {'n_epochs': 200, 'optimizer': 'minibatch'}\n",
      "Acurácia: 0.8522167487684728\n"
     ]
    }
   ],
   "source": [
    "# Parâmetros Default\n",
    "G5_grid_params_default = { 'optimizer': ['minibatch'], 'n_epochs': [200] }\n",
    "\n",
    "G5_default = Grupo5_model(df_train_features, df_train_target, G5_grid_params_default)"
   ]
  },
  {
   "cell_type": "markdown",
   "id": "aa6fa32d-5479-45a1-97cd-6a82004536b4",
   "metadata": {},
   "source": [
    "### 5.1.4. Minibatch Gradient Descent - Fine-Tuning"
   ]
  },
  {
   "cell_type": "code",
   "execution_count": 16,
   "id": "063529a3",
   "metadata": {},
   "outputs": [
    {
     "name": "stdout",
     "output_type": "stream",
     "text": [
      "Melhores parametros: {'alpha': 0.01, 'learning_rate': 0.1, 'minibatch_size': 30, 'n_epochs': 200, 'optimizer': 'minibatch'}\n",
      "Acurácia: 0.993103448275862\n"
     ]
    }
   ],
   "source": [
    "# Parâmetros fine-tuning\n",
    "G5_grid_params_ft = {\n",
    "    'optimizer': ['minibatch'],\n",
    "    'minibatch_size': [10, 30, 90],\n",
    "    'learning_rate': [0.001, 0.01, 0.1],\n",
    "    'n_epochs': [20, 100, 200],\n",
    "    'alpha': [0.0001, 0.001, 0.01],\n",
    "}\n",
    "\n",
    "G5_ft = Grupo5_model(df_train_features, df_train_target, G5_grid_params_ft)"
   ]
  },
  {
   "cell_type": "markdown",
   "id": "5695f2fd-e720-455c-aa80-461808625960",
   "metadata": {},
   "source": [
    "### 5.1.5. Stochastic Gradient Descent - Versão Default"
   ]
  },
  {
   "cell_type": "code",
   "execution_count": 17,
   "id": "c8d71880",
   "metadata": {},
   "outputs": [
    {
     "name": "stdout",
     "output_type": "stream",
     "text": [
      "Melhores parametros: {'n_epochs': 2, 'optimizer': 'stochastic'}\n",
      "Acurácia: 0.6054187192118227\n"
     ]
    }
   ],
   "source": [
    "# Parâmetros Default\n",
    "G5_grid_params_default = { 'optimizer': ['stochastic'], 'n_epochs': [2] }\n",
    "\n",
    "G5_default = Grupo5_model(df_train_features, df_train_target, G5_grid_params_default)"
   ]
  },
  {
   "cell_type": "markdown",
   "id": "6b740b4d-32d4-4568-a309-4e214742e510",
   "metadata": {},
   "source": [
    "### 5.1.6. Stochastic Gradient Descent - Fine-Tuning"
   ]
  },
  {
   "cell_type": "code",
   "execution_count": 18,
   "id": "9b29683c",
   "metadata": {},
   "outputs": [
    {
     "name": "stdout",
     "output_type": "stream",
     "text": [
      "Melhores parametros: {'alpha': 0.01, 'learning_rate': 0.1, 'n_epochs': 15, 'optimizer': 'stochastic'}\n",
      "Acurácia: 0.9859605911330049\n"
     ]
    }
   ],
   "source": [
    "# Parâmetros fine-tuning\n",
    "G5_grid_params_ft = {\n",
    "    'optimizer': ['stochastic'],\n",
    "    'learning_rate': [0.001, 0.01, 0.1],\n",
    "    'n_epochs': [5, 10, 15],\n",
    "    'alpha': [0.0001, 0.001, 0.01],\n",
    "}\n",
    "\n",
    "G5_ft = Grupo5_model(df_train_features, df_train_target, G5_grid_params_ft)"
   ]
  },
  {
   "cell_type": "markdown",
   "id": "12c2c25d",
   "metadata": {},
   "source": [
    "## 5.2. Sklearn LogisticRegression"
   ]
  },
  {
   "cell_type": "code",
   "execution_count": 19,
   "id": "aa19249d",
   "metadata": {},
   "outputs": [],
   "source": [
    "def Log_reg_model (df_train_features,df_train_target,LR_grid_params,num_folds = 5):\n",
    "    LR_model = GridSearchCV(\n",
    "        estimator=LogisticRegression(random_state=42),\n",
    "        param_grid=LR_grid_params,\n",
    "        cv=num_folds,\n",
    "        scoring=\"accuracy\"\n",
    "    )\n",
    "\n",
    "    LR_model.fit(df_train_features, df_train_target)\n",
    "\n",
    "    print(f'Melhores parametros: {LR_model.best_params_}')\n",
    "    print(f'Acurácia: {LR_model.best_score_}')\n",
    "    return LR_model"
   ]
  },
  {
   "cell_type": "markdown",
   "id": "ea2aad30",
   "metadata": {},
   "source": [
    "### 5.2.1. Versão Default"
   ]
  },
  {
   "cell_type": "code",
   "execution_count": 20,
   "id": "7eb608a0",
   "metadata": {},
   "outputs": [
    {
     "name": "stdout",
     "output_type": "stream",
     "text": [
      "Melhores parametros: {'C': 1.0, 'max_iter': 100, 'penalty': 'l2', 'solver': 'lbfgs'}\n",
      "Acurácia: 0.9859605911330049\n"
     ]
    }
   ],
   "source": [
    "# Parâmetros Default\n",
    "LR_grid_params_default = {\n",
    "    'penalty':['l2'],\n",
    "    'C':[1.0],  \n",
    "    'solver':['lbfgs'],\n",
    "    'max_iter':[100]}\n",
    "\n",
    "LR_default = Log_reg_model(df_train_features,df_train_target,LR_grid_params_default)"
   ]
  },
  {
   "cell_type": "markdown",
   "id": "9f66f262",
   "metadata": {},
   "source": [
    "### 5.2.2. Fine-Tuning"
   ]
  },
  {
   "cell_type": "code",
   "execution_count": 21,
   "id": "99924a0b",
   "metadata": {},
   "outputs": [
    {
     "name": "stdout",
     "output_type": "stream",
     "text": [
      "Melhores parametros: {'C': 0.01, 'max_iter': 100, 'penalty': 'l2', 'solver': 'newton-cg'}\n",
      "Acurácia: 0.9862068965517242\n"
     ]
    }
   ],
   "source": [
    "# Parâmetros fine-tuning\n",
    "LR_grid_params_ft = {\n",
    "    'penalty':['l2', 'none'],\n",
    "    'C': np.logspace(-2, 2, 5),   \n",
    "    'solver':['newton-cg', 'lbfgs', 'sag', 'saga'],\n",
    "    'max_iter':[100,1000,10000]}\n",
    "\n",
    "LR_ft = Log_reg_model(df_train_features,df_train_target,LR_grid_params_ft)"
   ]
  },
  {
   "cell_type": "markdown",
   "id": "337fee1b",
   "metadata": {},
   "source": [
    "## 5.3. Sklearn SGDClassifier"
   ]
  },
  {
   "cell_type": "code",
   "execution_count": 22,
   "id": "858f600f",
   "metadata": {},
   "outputs": [],
   "source": [
    "def SGDClassifier_model (df_train_features,df_train_target,SGD_grid_params,num_folds = 5):\n",
    "    SGD_model = GridSearchCV(\n",
    "        estimator=SGDClassifier(random_state=42),\n",
    "        param_grid=SGD_grid_params,\n",
    "        cv=num_folds,\n",
    "        scoring=\"accuracy\"\n",
    "    )\n",
    "\n",
    "    SGD_model.fit(df_train_features, df_train_target)\n",
    "\n",
    "    print(f'Melhores parametros: {SGD_model.best_params_}')\n",
    "    print(f'Acurácia: {SGD_model.best_score_}')\n",
    "    return SGD_model"
   ]
  },
  {
   "cell_type": "markdown",
   "id": "65a36c88",
   "metadata": {},
   "source": [
    "### 5.3.1. Versão Default"
   ]
  },
  {
   "cell_type": "code",
   "execution_count": 23,
   "id": "dfdec0ee",
   "metadata": {},
   "outputs": [
    {
     "name": "stdout",
     "output_type": "stream",
     "text": [
      "Melhores parametros: {'alpha': 0.0001, 'learning_rate': 'optimal', 'loss': 'hinge', 'max_iter': 1000, 'penalty': 'l2'}\n",
      "Acurácia: 0.9719211822660098\n"
     ]
    }
   ],
   "source": [
    "# Parâmetros Default\n",
    "SGD_grid_params_default = {\n",
    "    'penalty':['l2'],\n",
    "    'alpha': [0.0001],  \n",
    "    'loss':['hinge'],  \n",
    "    'max_iter':[1000],\n",
    "    'learning_rate':['optimal']\n",
    "}\n",
    "\n",
    "SGD_default = SGDClassifier_model(df_train_features,df_train_target,SGD_grid_params_default)"
   ]
  },
  {
   "cell_type": "markdown",
   "id": "f3244aec",
   "metadata": {},
   "source": [
    "### 5.3.2. Fine-Tuning"
   ]
  },
  {
   "cell_type": "code",
   "execution_count": 24,
   "id": "b3cb2f49",
   "metadata": {},
   "outputs": [
    {
     "name": "stdout",
     "output_type": "stream",
     "text": [
      "Melhores parametros: {'alpha': 0.01, 'learning_rate': 'optimal', 'loss': 'hinge', 'max_iter': 100, 'penalty': 'l2'}\n",
      "Acurácia: 1.0\n"
     ]
    }
   ],
   "source": [
    "# Parâmetros FT\n",
    "SGD_grid_params_default = {\n",
    "    'penalty':['l2','l1'],\n",
    "    'alpha': np.logspace(-6, -2, 5),\n",
    "    'loss':['hinge','log','squared_error'],  \n",
    "    'max_iter':[100,1000,10000],\n",
    "    'learning_rate':['constant','optimal','adaptive','invscaling']\n",
    "}\n",
    "\n",
    "SGD_ft = SGDClassifier_model(df_train_features,df_train_target,SGD_grid_params_default)"
   ]
  },
  {
   "cell_type": "markdown",
   "id": "7cad9455",
   "metadata": {},
   "source": [
    "# 5 Conclusão e próximos passos"
   ]
  },
  {
   "cell_type": "code",
   "execution_count": null,
   "id": "b783378d-69d0-4343-88b1-d502b3920c4b",
   "metadata": {},
   "outputs": [],
   "source": []
  }
 ],
 "metadata": {
  "kernelspec": {
   "display_name": "Python 3 (ipykernel)",
   "language": "python",
   "name": "python3"
  },
  "language_info": {
   "codemirror_mode": {
    "name": "ipython",
    "version": 3
   },
   "file_extension": ".py",
   "mimetype": "text/x-python",
   "name": "python",
   "nbconvert_exporter": "python",
   "pygments_lexer": "ipython3",
   "version": "3.9.12"
  }
 },
 "nbformat": 4,
 "nbformat_minor": 5
}
